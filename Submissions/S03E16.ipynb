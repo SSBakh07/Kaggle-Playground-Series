{
 "cells": [
  {
   "cell_type": "markdown",
   "id": "c1f25865",
   "metadata": {},
   "source": [
    "# Kaggle Playground S03E16\n",
    "\n",
    "<br />\n",
    "\n",
    "[Link to competition](https://www.kaggle.com/competitions/playground-series-s3e16/)\n",
    "\n",
    "## Table of Contents:\n",
    "- [EDA](#eda)\n"
   ]
  },
  {
   "cell_type": "code",
   "execution_count": 1,
   "id": "57a65ac5",
   "metadata": {},
   "outputs": [
    {
     "data": {
      "application/javascript": [
       "if (!(\"Notification\" in window)) {\n",
       "    alert(\"This browser does not support desktop notifications, so the %%notify magic will not work.\");\n",
       "} else if (Notification.permission !== 'granted' && Notification.permission !== 'denied') {\n",
       "    Notification.requestPermission(function (permission) {\n",
       "        if(!('permission' in Notification)) {\n",
       "            Notification.permission = permission;\n",
       "        }\n",
       "    })\n",
       "}\n"
      ],
      "text/plain": [
       "<IPython.core.display.Javascript object>"
      ]
     },
     "metadata": {},
     "output_type": "display_data"
    }
   ],
   "source": [
    "import jupyternotify\n",
    "ip = get_ipython()\n",
    "ip.register_magics(jupyternotify.JupyterNotifyMagics)\n",
    "\n",
    "%autonotify -a 30"
   ]
  },
  {
   "cell_type": "code",
   "execution_count": 2,
   "id": "67a44164",
   "metadata": {},
   "outputs": [],
   "source": [
    "# Import libraries\n",
    "\n",
    "import pandas as pd\n",
    "import numpy as np\n"
   ]
  },
  {
   "cell_type": "markdown",
   "id": "9477b9d0",
   "metadata": {},
   "source": [
    "<a id=\"eda\"></a>\n",
    "## EDA"
   ]
  },
  {
   "cell_type": "markdown",
   "id": "1c5b1e0e",
   "metadata": {},
   "source": [
    "<a id=\"srcs\"></a>\n",
    "## Sources"
   ]
  }
 ],
 "metadata": {
  "kernelspec": {
   "display_name": "Python 3 (ipykernel)",
   "language": "python",
   "name": "python3"
  },
  "language_info": {
   "codemirror_mode": {
    "name": "ipython",
    "version": 3
   },
   "file_extension": ".py",
   "mimetype": "text/x-python",
   "name": "python",
   "nbconvert_exporter": "python",
   "pygments_lexer": "ipython3",
   "version": "3.8.10"
  }
 },
 "nbformat": 4,
 "nbformat_minor": 5
}
